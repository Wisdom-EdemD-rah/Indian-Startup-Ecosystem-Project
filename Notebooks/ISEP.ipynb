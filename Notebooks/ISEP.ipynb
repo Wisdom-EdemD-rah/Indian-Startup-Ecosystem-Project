{
 "cells": [
  {
   "cell_type": "markdown",
   "metadata": {},
   "source": [
    "**INDIAN ECOSYSTEM START UP FUNDING PROJECT**\n",
    "\n",
    "**Business Understanding**\n",
    "\n",
    "As the data expert on the team, I am tasked with conducting an in-depth analysis of the ecosystem to determine the factors that influence the funding received by startups in India. The goal is to identify whether the location of these startups plays a significant role in the amount of funding they receive. The analysis will focus on startup funding data spanning from 2018 to 2021. Separate datasets will be provided for each year, encompassing information about the startups, the funding amounts they received, and details about the investors involved. The primary objective is to investigate and understand whether the location of startups in India a meaningful impact on the funding has they secure. This analysis will inform my team with the strategic decisions and help us devise the most effective course of action within the Indian startup ecosystem.\n",
    "\n",
    "\n",
    "**QUESTIONS**\n",
    "\n",
    "1.\tWhat is the trend in the amount of funding received by indian startups over the years?\n",
    "2.\tWhich sectors received the highest amount of funding in india from 2018 to 2021?\n",
    "3.\tWhat are the total funding amounts received by startups in different locations within india?\n",
    "4.\tWhat are the top 10 companies with the highest funding?\n",
    "5.\tWhat are the top 10 stages with the highest average amount of funds received by indian startups?\n",
    "6.\tWhich startups received the highest funding each year?\n",
    "7.\tWhat are the top 10 locations that received the most funding\n",
    "8.\tWhat are the top investors in Indian startups and their contribution amounts?\n",
    "\n",
    "**OBJECTIVES**\n",
    "\n",
    "1.\tTo analyze the yearly trend in funding received by Indian startups to identify any significant patterns or changes over time.\n",
    "2.\tTo identify which sectors have received the highest amount of funding in India between 2018 and 2021.\n",
    "3.\tTo analyze the total funding amounts received by startups in various locations within India.\n",
    "4.\tTo identify the top **10 companies in India that have received the highest amount of funding.\n",
    "5.\tTo determine the stages of funding that have the highest average amounts received by Indian startups.\n",
    "6.\tTo identify the startups that received the highest funding in each year.\n",
    "7.\tTo identify the top 10 locations in India that received the most funding for startups.\n",
    "8.\tTo identify the top investors in Indian startups and analyze the total amount of funding provided by them.\n",
    "\n",
    "**HYPOTHESIS**\n",
    "\n",
    "**Hypothesis 1:**\n",
    "\n",
    "Null Hypothesis (H0): There is no significant trend in the amount of funding received by Indian startups over the years.\n",
    "Alternative Hypothesis (H1): There is a significant trend in the amount of funding received by Indian startups over the years.\n",
    "\n",
    "**Hypothesis 2:**\n",
    "\n",
    "Null Hypothesis (H0): The distribution of funding across different sectors is uniform.\n",
    "Alternative Hypothesis (H1): Certain sectors receive significantly more funding than others.\n",
    "\n",
    "**Hypothesis 3:**\n",
    "\n",
    "Null Hypothesis (H0): The total funding received by startups is evenly distributed across different locations in India.\n",
    "Alternative Hypothesis (H1): There are significant differences in the total funding received by startups across different locations in India.\n",
    "\n",
    "**Hypothesis 4:**\n",
    "\n",
    "Null Hypothesis (H0): There is no significant difference in the funding amounts received by the top 10 companies.\n",
    "Alternative Hypothesis (H1): There are significant differences in the funding amounts received by the top 10 companies.\n",
    "\n",
    "**Hypothesis 5:**\n",
    "\n",
    "Null Hypothesis (H0): The average funding amounts do not significantly differ across various funding stages.\n",
    "Alternative Hypothesis (H1): The average funding amounts significantly differ across various funding stages.\n",
    "\n",
    "**Hypothesis 6:**\n",
    "\n",
    "Null Hypothesis (H0): There is no significant difference in the funding amounts received by the top startups each year.\n",
    "Alternative Hypothesis (H1): There are significant differences in the funding amounts received by the top startups each year.\n",
    "\n",
    "**Hypothesis 7:**\n",
    "\n",
    "Null Hypothesis (H0): The distribution of funding across locations is uniform.\n",
    "Alternative Hypothesis (H1): Certain locations receive significantly more funding than others.\n",
    "\n",
    "**Hypothesis 8:**\n",
    "\n",
    "Null Hypothesis (H0): There is no significant difference in the amounts provided by the top investors.\n",
    "Alternative Hypothesis (H1): There are significant differences in the amounts provided by the top investors.\n",
    "\n",
    "\n"
   ]
  },
  {
   "cell_type": "code",
   "execution_count": null,
   "metadata": {},
   "outputs": [],
   "source": [
    " %pip install pyodbc  \n",
    " %pip install python-dotenv "
   ]
  },
  {
   "cell_type": "code",
   "execution_count": null,
   "metadata": {},
   "outputs": [],
   "source": [
    "import pyodbc     \n",
    "from dotenv import dotenv_values    #import the dotenv_values function from the dotenv package\n",
    "import pandas as pd\n",
    "import warnings \n",
    "\n",
    "warnings.filterwarnings('ignore')"
   ]
  },
  {
   "cell_type": "code",
   "execution_count": null,
   "metadata": {},
   "outputs": [],
   "source": []
  }
 ],
 "metadata": {
  "kernelspec": {
   "display_name": "Python 3",
   "language": "python",
   "name": "python3"
  },
  "language_info": {
   "codemirror_mode": {
    "name": "ipython",
    "version": 3
   },
   "file_extension": ".py",
   "mimetype": "text/x-python",
   "name": "python",
   "nbconvert_exporter": "python",
   "pygments_lexer": "ipython3",
   "version": "3.12.2"
  }
 },
 "nbformat": 4,
 "nbformat_minor": 2
}
