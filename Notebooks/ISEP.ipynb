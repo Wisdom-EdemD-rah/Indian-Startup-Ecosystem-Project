{
 "cells": [
  {
   "cell_type": "markdown",
   "metadata": {},
   "source": [
    "**INDIAN ECOSYSTEM START UP FUNDING PROJECT**\n",
    "\n",
    "**Business Understanding**\n",
    "\n",
    "As the data expert on the team, I am tasked with conducting an in-depth analysis of the ecosystem to determine the factors that influence the funding received by startups in India. The goal is to identify whether the location of these startups plays a significant role in the amount of funding they receive. The analysis will focus on startup funding data spanning from 2018 to 2021. Separate datasets will be provided for each year, encompassing information about the startups, the funding amounts they received, and details about the investors involved. The primary objective is to investigate and understand whether the location of startups in India a meaningful impact on the funding has they secure. This analysis will inform my team with the strategic decisions and help us devise the most effective course of action within the Indian startup ecosystem.\n",
    "\n",
    "**Project Objective**\n",
    "The main goal of this project is to analyze the funding landscape of Indian startups from 2018 to 2021. By understanding the trends, sectors, locations, stages, and key players in startup funding, stakeholders can make informed decisions and strategic plans. Analyze funding received by start-ups in India from 2018 to 2021 and provide insights and propose the best course of action and recommendations.\n",
    "\n",
    "**OBJECTIVES**\n",
    "\n",
    "1.\tTo analyze the yearly trend in funding received by Indian startups to identify any   \n",
    "    significant patterns or changes over time.\n",
    "2.\tTo identify which sectors have received the highest amount of funding in India between \n",
    "    2018 and 2021.\n",
    "3.\tTo analyze the total funding amounts received by startups in various locations within \n",
    "    India.\n",
    "4.\tTo identify the top **10 companies in India that have received the highest amount of \n",
    "    funding.\n",
    "5.\tTo determine the stages of funding that have the highest average amounts received by \n",
    "    Indian startups.\n",
    "6.\tTo identify the startups that received the highest funding in each year.\n",
    "7.\tTo identify the top 10 locations in India that received the most funding for startups.\n",
    "8.\tTo identify the top investors in Indian startups and analyze the total amount of funding   \n",
    "    provided by them.\n",
    "\n",
    "\n",
    "**ANALYTICAL QUESTIONS**\n",
    "\n",
    "1.\tWhat is the trend in the amount of funding received by indian startups over the years? \n",
    "To identify how the funding landscape has changed from 2018 to 2021 for Indian startups and aggregate the total funding amount received by startups for each year. This involves summing the funding amounts for each year and plotting a trend line to visualize the changes over time. This analysis will reveal whether the funding environment is growing, declining, or fluctuating. It helps stakeholders understand the investment climate and predict future trends.\n",
    "\n",
    "2.\tWhich sectors received the highest amount of funding in india from 2018 to 2021?\n",
    "To determine which sectors attracted the most investment over the given period and categorize the startups based on their sectors and sum the funding amounts for each sector from 2018 to 2021. Rank the sectors by their total funding amounts. This analysis highlights the most lucrative and promising sectors for investors. It helps in identifying which industries are gaining traction and are likely to grow further.\n",
    "\n",
    "3.\tWhat are the total funding amounts received by startups in different locations within india?\n",
    "To analyze the geographic distribution of funding within India and group the data by locations (cities or states) and calculate the total funding amount received by startups in each location. This reveals the hotspots of startup activity and investment within the country. It helps in understanding regional disparities and the concentration of venture capital.\n",
    "\n",
    "4.\tWhat are the top 10 companies with the highest funding?\n",
    "To identify the most heavily funded startups in India from 2018 to 2021 and aggregate the total funding amount received by each company and rank them to find the top 10 companies with the highest funding. This showcases the leading startups in terms of capital raised, indicating their potential market impact and growth prospects. It can also provide case studies for successful fundraising strategies.\n",
    "\n",
    "5.\tWhat are the top 10 stages with the highest average amount of funds received by indian startups?\n",
    "To understand which funding stages (e.g., Seed, Series A, Series B) attract the highest average investments and calculate the average funding amount for each funding stage and rank them to find the top 10 stages with the highest average funding. This helps in understanding investor behavior and preferences at different stages of a startup's lifecycle. It informs startups about the potential funding they can expect at various stages of their growth.\n",
    "\n",
    "6.\tWhich startups received the highest funding each year? \n",
    "To identify the top-funded startup for each year from 2018 to 2021. For each year, find the startup with the highest total funding amount. This highlights the standout startups for each year, showcasing the companies that managed to attract significant investment. It can indicate trends and shifts in investor focus year over year.\n",
    "\n",
    "7.\tWhat are the top 10 locations that received the most funding?\n",
    "To pinpoint the top locations (cities or states) that received the most startup funding from 2018 to 2021. Aggregate the total funding amount received by startups in each location and rank them to find the top 10. This helps identify key regions for startup activity and investment. It can inform policy decisions and investment strategies by highlighting areas with strong entrepreneurial ecosystems.\n",
    "\n",
    "8.\tWhat are the top investors in Indian startups and their contribution amounts?\n",
    "To identify the leading investors in the Indian startup ecosystem and quantify their investments and aggregate the total amount invested by each investor across all startups and rank them to find the top investors. This analysis reveals the most active and influential investors in the Indian startup scene. It helps startups understand where to seek investment and can also highlight trends in investor behavior and preferences.\n",
    "\n",
    "\n",
    "\n",
    "**HYPOTHESIS**\n",
    "\n",
    "**Hypothesis 1:**\n",
    "\n",
    "Null Hypothesis (H0): There is no significant trend in the amount of funding received by Indian startups over the years.\n",
    "Alternative Hypothesis (H1): There is a significant trend in the amount of funding received by Indian startups over the years.\n",
    "\n",
    "**Hypothesis 2:**\n",
    "\n",
    "Null Hypothesis (H0): The distribution of funding across different sectors is uniform\n",
    "Alternative Hypothesis (H1): Certain sectors receive significantly more funding than others.\n",
    "\n",
    "**Hypothesis 3:**\n",
    "\n",
    "Null Hypothesis (H0): The total funding received by startups is evenly distributed across different locations in India.\n",
    "Alternative Hypothesis (H1): There are significant differences in the total funding received by startups across different locations in India.\n",
    "\n",
    "**Hypothesis 4:**\n",
    "\n",
    "Null Hypothesis (H0): There is no significant difference in the funding amounts received by the top 10 companies.\n",
    "Alternative Hypothesis (H1): There are significant differences in the funding amounts received by the top 10 companies.\n",
    "\n",
    "**Hypothesis 5:**\n",
    "\n",
    "Null Hypothesis (H0): The average funding amounts do not significantly differ across various funding stages.\n",
    "Alternative Hypothesis (H1): The average funding amounts significantly differ across various funding stages.\n",
    "\n",
    "**Hypothesis 6:**`\n",
    "\n",
    "Null Hypothesis (H0): There is no significant difference in the funding amounts received by the top startups each year.\n",
    "Alternative Hypothesis (H1): There are significant differences in the funding amounts received by the top startups each year.\n",
    "\n",
    "**Hypothesis 7:**\n",
    "\n",
    "Null Hypothesis (H0): The distribution of funding across locations is uniform.\n",
    "Alternative Hypothesis (H1): Certain locations receive significantly more funding than others.\n",
    "\n",
    "**Hypothesis 8:**\n",
    "\n",
    "Null Hypothesis (H0): There is no significant difference in the amounts provided by the top investors.\n",
    "Alternative Hypothesis (H1): There are significant differences in the amounts provided by the top investors.\n",
    "\n",
    "\n",
    "**Stakeholders**\n",
    "1. Investors: Gain insights into funding trends, sector preferences, and top-performing startups to make informed investment decisions.\n",
    "2. Startups: Understand the competitive landscape, identify potential funding opportunities, and benchmark against top-funded companies.\n",
    "3. Policymakers: Identify regional disparities and areas needing support to foster a more balanced and inclusive startup ecosystem.\n",
    "4. Entrepreneurs: Gain knowledge about successful sectors and regions to focus their efforts and attract investment.\n",
    "   \n",
    "**Project Impact**\n",
    "By providing a detailed analysis of the startup funding landscape in India, this project aims to:\n",
    "1. Inform investment strategies and decisions for venture capitalists and angel investors.\n",
    "2. Guide startups in planning their fundraising efforts and understanding market dynamics.\n",
    "3. Support policymakers in developing initiatives to promote regional and sectoral growth.\n",
    "4. Help entrepreneurs identify opportunities and threats within the startup ecosystem.\n",
    "\n",
    "\n",
    "Understanding the business context and relevance of these key questions is crucial for driving actionable insights and strategic decisions. This project will help stakeholders navigate the complex landscape of startup funding in India, ultimately contributing to a more vibrant and successful entrepreneurial environment."
   ]
  },
  {
   "cell_type": "code",
   "execution_count": null,
   "metadata": {},
   "outputs": [],
   "source": [
    " %pip install pyodbc  \n",
    " %pip install python-dotenv \n",
    " %pip install matplotlib\n",
    " %pip install seaborn\n",
    " %pip install scikit-learn"
   ]
  },
  {
   "cell_type": "markdown",
   "metadata": {},
   "source": [
    "**IMPORT LIBRARIES**"
   ]
  },
  {
   "cell_type": "code",
   "execution_count": 29,
   "metadata": {},
   "outputs": [],
   "source": [
    "# IMPORT ALL THE REQUIRED PACKAGES AND LIBRARIES\n",
    "\n",
    "import pyodbc     \n",
    "from dotenv import dotenv_values    #import the dotenv_values function from the dotenv package\n",
    "import pandas as pd\n",
    "import warnings \n",
    "import os\n",
    "warnings.filterwarnings('ignore')\n",
    "\n",
    "import numpy as np\n",
    "import matplotlib.pyplot as plt\n",
    "import seaborn as sns\n",
    "from sklearn.impute import SimpleImputer\n",
    "import matplotlib.ticker as mtick\n",
    "from scipy import stats"
   ]
  },
  {
   "cell_type": "markdown",
   "metadata": {},
   "source": [
    "**LOAD ALL THE DATASETS FROM SOURCE (SQL & CSV)**\n",
    "1. Load 2020 and 2021 datasets from Microsoft SQL server\n",
    "2. Load 2019 dataset from onedrive\n",
    "3. Load 2018 dataset from a github repository "
   ]
  },
  {
   "cell_type": "code",
   "execution_count": 30,
   "metadata": {},
   "outputs": [],
   "source": [
    "environment_variables = dotenv_values('.env')\n",
    " \n",
    "# These are the values for the credentials from .env file\n",
    "database=environment_variables.get(\"DATABASE\")\n",
    "server=environment_variables.get(\"SERVER\")\n",
    "login=environment_variables.get(\"LOGIN\")\n",
    "password=environment_variables.get(\"PASSWORD\")\n",
    " \n",
    "# A connection string is been created\n",
    "connection_string=f\"DRIVER={{SQL Server}};SERVER={server};DATABASE={database};UID={login};PWD={password}\""
   ]
  },
  {
   "cell_type": "code",
   "execution_count": 31,
   "metadata": {},
   "outputs": [],
   "source": [
    "connection_string = f\"DRIVER={{ODBC Driver 18 for SQL Server}};SERVER={server};DATABASE={database};UID={username};PWD={password};Connection Timeout=60;\"\n"
   ]
  },
  {
   "cell_type": "code",
   "execution_count": 43,
   "metadata": {},
   "outputs": [
    {
     "ename": "InterfaceError",
     "evalue": "('28000', \"[28000] [Microsoft][ODBC Driver 18 for SQL Server][SQL Server]Login failed for user 'None'. (18456) (SQLDriverConnect)\")",
     "output_type": "error",
     "traceback": [
      "\u001b[0;31m---------------------------------------------------------------------------\u001b[0m",
      "\u001b[0;31mInterfaceError\u001b[0m                            Traceback (most recent call last)",
      "Cell \u001b[0;32mIn[43], line 1\u001b[0m\n\u001b[0;32m----> 1\u001b[0m connection \u001b[38;5;241m=\u001b[39m \u001b[43mpyodbc\u001b[49m\u001b[38;5;241;43m.\u001b[39;49m\u001b[43mconnect\u001b[49m\u001b[43m(\u001b[49m\u001b[43mconnection_string\u001b[49m\u001b[43m)\u001b[49m\n",
      "\u001b[0;31mInterfaceError\u001b[0m: ('28000', \"[28000] [Microsoft][ODBC Driver 18 for SQL Server][SQL Server]Login failed for user 'None'. (18456) (SQLDriverConnect)\")"
     ]
    }
   ],
   "source": [
    "connection = pyodbc.connect(connection_string)\n"
   ]
  },
  {
   "cell_type": "code",
   "execution_count": 41,
   "metadata": {},
   "outputs": [
    {
     "ename": "NameError",
     "evalue": "name 'connection' is not defined",
     "output_type": "error",
     "traceback": [
      "\u001b[0;31m---------------------------------------------------------------------------\u001b[0m",
      "\u001b[0;31mNameError\u001b[0m                                 Traceback (most recent call last)",
      "Cell \u001b[0;32mIn[41], line 5\u001b[0m\n\u001b[1;32m      1\u001b[0m \u001b[38;5;66;03m# load 2020 dataset\u001b[39;00m\n\u001b[1;32m      3\u001b[0m query \u001b[38;5;241m=\u001b[39m \u001b[38;5;124m\"\u001b[39m\u001b[38;5;124mSelect * from dbo.LP1_startup_funding2020\u001b[39m\u001b[38;5;124m\"\u001b[39m\n\u001b[0;32m----> 5\u001b[0m data_2020 \u001b[38;5;241m=\u001b[39m pd\u001b[38;5;241m.\u001b[39mread_sql(query, \u001b[43mconnection\u001b[49m)\n\u001b[1;32m      6\u001b[0m data_2020\u001b[38;5;241m.\u001b[39mhead()\n",
      "\u001b[0;31mNameError\u001b[0m: name 'connection' is not defined"
     ]
    }
   ],
   "source": [
    "# load 2020 dataset\n",
    "\n",
    "query = \"Select * from dbo.LP1_startup_funding2020\"\n",
    "\n",
    "data_2020 = pd.read_sql(query, connection)\n",
    "data_2020.head()"
   ]
  }
 ],
 "metadata": {
  "kernelspec": {
   "display_name": "Python 3",
   "language": "python",
   "name": "python3"
  },
  "language_info": {
   "codemirror_mode": {
    "name": "ipython",
    "version": 3
   },
   "file_extension": ".py",
   "mimetype": "text/x-python",
   "name": "python",
   "nbconvert_exporter": "python",
   "pygments_lexer": "ipython3",
   "version": "3.12.2"
  }
 },
 "nbformat": 4,
 "nbformat_minor": 2
}
